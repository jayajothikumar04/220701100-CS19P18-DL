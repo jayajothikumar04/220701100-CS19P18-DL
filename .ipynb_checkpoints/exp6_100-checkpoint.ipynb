{
 "cells": [
  {
   "cell_type": "code",
   "execution_count": 1,
   "id": "100f23a8-5b5a-4ddd-9b0c-b97def72361a",
   "metadata": {},
   "outputs": [],
   "source": [
    "import numpy as np \n",
    "from tensorflow.keras.datasets import imdb \n",
    "from tensorflow.keras.preprocessing.sequence import pad_sequences \n",
    "from tensorflow.keras.models import Sequential \n",
    "from tensorflow.keras.layers import Embedding, SimpleRNN, Dense \n",
    "max_words = 5000    \n",
    "max_len = 200  "
   ]
  },
  {
   "cell_type": "code",
   "execution_count": 2,
   "id": "31897c32-5841-43ac-8a1f-2e7de94d468d",
   "metadata": {},
   "outputs": [
    {
     "name": "stdout",
     "output_type": "stream",
     "text": [
      "Downloading data from https://storage.googleapis.com/tensorflow/tf-keras-datasets/imdb.npz\n",
      "17464789/17464789 [==============================] - 3s 0us/step\n"
     ]
    }
   ],
   "source": [
    "(x_train, y_train), (x_test, y_test) = imdb.load_data(num_words=max_words) \n",
    "X_train = pad_sequences(x_train, maxlen=max_len) \n",
    "X_test  = pad_sequences(x_test, maxlen=max_len)"
   ]
  },
  {
   "cell_type": "code",
   "execution_count": 3,
   "id": "90545e8a-f21e-4f00-89d9-18f6cb14c0a1",
   "metadata": {},
   "outputs": [],
   "source": [
    "model = Sequential() \n",
    "model.add(Embedding(input_dim=max_words, output_dim=32, input_length=max_len)) \n",
    "model.add(SimpleRNN(32)) \n",
    "model.add(Dense(1, activation='sigmoid')) \n",
    "model.compile(optimizer='adam', loss='binary_crossentropy', metrics=['accuracy'])"
   ]
  },
  {
   "cell_type": "code",
   "execution_count": 4,
   "id": "b4a078f2-88ac-4e77-b95d-4ce2bef442d3",
   "metadata": {},
   "outputs": [
    {
     "name": "stdout",
     "output_type": "stream",
     "text": [
      "Training...\n",
      "Epoch 1/2\n",
      "313/313 [==============================] - 19s 56ms/step - loss: 0.5837 - accuracy: 0.6761 - val_loss: 0.4621 - val_accuracy: 0.7876\n",
      "Epoch 2/2\n",
      "313/313 [==============================] - 23s 73ms/step - loss: 0.3461 - accuracy: 0.8544 - val_loss: 0.3478 - val_accuracy: 0.8530\n",
      "782/782 [==============================] - 10s 12ms/step - loss: 0.3498 - accuracy: 0.8502\n",
      "\n",
      "Test Accuracy: 0.8502\n",
      "Downloading data from https://storage.googleapis.com/tensorflow/tf-keras-datasets/imdb_word_index.json\n",
      "1641221/1641221 [==============================] - 0s 0us/step\n"
     ]
    }
   ],
   "source": [
    "print(\"Training...\") \n",
    "model.fit(X_train, y_train, epochs=2, batch_size=64, validation_split=0.2) \n",
    "loss, acc = model.evaluate(X_test, y_test) \n",
    "print(f\"\\nTest Accuracy: {acc:.4f}\") \n",
    "word_index = imdb.get_word_index() \n",
    "reverse_word_index = {v: k for (k, v) in word_index.items()}"
   ]
  },
  {
   "cell_type": "code",
   "execution_count": 6,
   "id": "464404dc-419d-467f-8901-7c51c9d518d2",
   "metadata": {},
   "outputs": [
    {
     "name": "stdout",
     "output_type": "stream",
     "text": [
      "1/1 [==============================] - 0s 244ms/step\n",
      "\n",
      "Review text: ? please give this one a miss br br ? ? and the rest of the cast ? terrible performances the show is flat flat flat br br i don't know how michael ? could have allowed this one on his ? he almost seemed to know this wasn't going to work out and his performance was quite ? so all you ? fans give this a miss\n",
      "Predicted Sentiment: Negative \n"
     ]
    }
   ],
   "source": [
    "def decode_review(review): \n",
    "    return \" \".join([reverse_word_index.get(i - 3, \"?\") for i in review]) \n",
    "sample_review = X_test[0] \n",
    "prediction = model.predict(sample_review.reshape(1, -1))[0][0] \n",
    "print(\"\\nReview text:\", decode_review(x_test[0])) \n",
    "print(\"Predicted Sentiment:\", \"Positive \" if prediction > 0.5 else \"Negative \") "
   ]
  },
  {
   "cell_type": "code",
   "execution_count": null,
   "id": "8b72f8b4-04b9-4648-aeec-f857a1f44252",
   "metadata": {},
   "outputs": [],
   "source": []
  }
 ],
 "metadata": {
  "kernelspec": {
   "display_name": "Python (tf210)",
   "language": "python",
   "name": "tf210"
  },
  "language_info": {
   "codemirror_mode": {
    "name": "ipython",
    "version": 3
   },
   "file_extension": ".py",
   "mimetype": "text/x-python",
   "name": "python",
   "nbconvert_exporter": "python",
   "pygments_lexer": "ipython3",
   "version": "3.9.23"
  }
 },
 "nbformat": 4,
 "nbformat_minor": 5
}
