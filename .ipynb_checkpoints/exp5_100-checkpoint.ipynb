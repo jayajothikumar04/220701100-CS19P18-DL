{
 "cells": [
  {
   "cell_type": "code",
   "execution_count": 1,
   "id": "2b505de3",
   "metadata": {},
   "outputs": [],
   "source": [
    "import numpy as np \n",
    "import tensorflow as tf \n",
    "from tensorflow.keras.models import Sequential \n",
    "from tensorflow.keras.layers import SimpleRNN, Dense \n",
    "from sklearn.metrics import r2_score \n",
    "np.random.seed(0) \n",
    "seq_length = 10 \n",
    "num_samples = 1000"
   ]
  },
  {
   "cell_type": "code",
   "execution_count": 2,
   "id": "5c13ce6c",
   "metadata": {},
   "outputs": [],
   "source": [
    "X = np.random.randn(num_samples, seq_length, 1)"
   ]
  },
  {
   "cell_type": "code",
   "execution_count": 3,
   "id": "b5c1fad1",
   "metadata": {},
   "outputs": [],
   "source": [
    "y = X.sum(axis=1) + 0.1 * np.random.randn(num_samples, 1)"
   ]
  },
  {
   "cell_type": "code",
   "execution_count": 4,
   "id": "17185c26-18ee-4729-b3a0-628ce432714e",
   "metadata": {},
   "outputs": [],
   "source": [
    "split_ratio = 0.8 \n",
    "split_index = int(split_ratio * num_samples)"
   ]
  },
  {
   "cell_type": "code",
   "execution_count": 5,
   "id": "7ebfe867-28a7-4e91-ac3f-20813f7ec57d",
   "metadata": {},
   "outputs": [],
   "source": [
    "X_train, X_test = X[:split_index], X[split_index:] \n",
    "y_train, y_test = y[:split_index], y[split_index:]"
   ]
  },
  {
   "cell_type": "code",
   "execution_count": 6,
   "id": "364d58ab-8557-4bb9-82c1-d32dd82516a9",
   "metadata": {},
   "outputs": [],
   "source": [
    "model = Sequential() \n",
    "model.add(SimpleRNN(units=50, activation='relu', input_shape=(seq_length, 1))) \n",
    "model.add(Dense(units=1)) "
   ]
  },
  {
   "cell_type": "code",
   "execution_count": 7,
   "id": "9aebebf7-54cb-459a-812f-ef58c08c287f",
   "metadata": {},
   "outputs": [
    {
     "name": "stdout",
     "output_type": "stream",
     "text": [
      "Model: \"sequential\"\n",
      "_________________________________________________________________\n",
      " Layer (type)                Output Shape              Param #   \n",
      "=================================================================\n",
      " simple_rnn (SimpleRNN)      (None, 50)                2600      \n",
      "                                                                 \n",
      " dense (Dense)               (None, 1)                 51        \n",
      "                                                                 \n",
      "=================================================================\n",
      "Total params: 2,651\n",
      "Trainable params: 2,651\n",
      "Non-trainable params: 0\n",
      "_________________________________________________________________\n"
     ]
    }
   ],
   "source": [
    "model.compile(optimizer='adam', loss='mean_squared_error') \n",
    "model.summary()"
   ]
  },
  {
   "cell_type": "code",
   "execution_count": 8,
   "id": "9048fc50-7e03-46e1-a24e-6ca64880aa55",
   "metadata": {},
   "outputs": [
    {
     "name": "stdout",
     "output_type": "stream",
     "text": [
      "Epoch 1/50\n",
      "22/22 [==============================] - 3s 42ms/step - loss: 7.8842 - val_loss: 5.6346\n",
      "Epoch 2/50\n",
      "22/22 [==============================] - 0s 9ms/step - loss: 5.3251 - val_loss: 4.1378\n",
      "Epoch 3/50\n",
      "22/22 [==============================] - 0s 11ms/step - loss: 3.7894 - val_loss: 2.1001\n",
      "Epoch 4/50\n",
      "22/22 [==============================] - 0s 10ms/step - loss: 0.9647 - val_loss: 0.4137\n",
      "Epoch 5/50\n",
      "22/22 [==============================] - 0s 10ms/step - loss: 0.2420 - val_loss: 0.1624\n",
      "Epoch 6/50\n",
      "22/22 [==============================] - 0s 10ms/step - loss: 0.1426 - val_loss: 0.1101\n",
      "Epoch 7/50\n",
      "22/22 [==============================] - 0s 9ms/step - loss: 0.1020 - val_loss: 0.1079\n",
      "Epoch 8/50\n",
      "22/22 [==============================] - 0s 10ms/step - loss: 0.0779 - val_loss: 0.0804\n",
      "Epoch 9/50\n",
      "22/22 [==============================] - 0s 12ms/step - loss: 0.0797 - val_loss: 0.0701\n",
      "Epoch 10/50\n",
      "22/22 [==============================] - 0s 10ms/step - loss: 0.0537 - val_loss: 0.0520\n",
      "Epoch 11/50\n",
      "22/22 [==============================] - 0s 9ms/step - loss: 0.0488 - val_loss: 0.0611\n",
      "Epoch 12/50\n",
      "22/22 [==============================] - 0s 9ms/step - loss: 0.0464 - val_loss: 0.0570\n",
      "Epoch 13/50\n",
      "22/22 [==============================] - 0s 9ms/step - loss: 0.0395 - val_loss: 0.0468\n",
      "Epoch 14/50\n",
      "22/22 [==============================] - 0s 9ms/step - loss: 0.0374 - val_loss: 0.0469\n",
      "Epoch 15/50\n",
      "22/22 [==============================] - 0s 10ms/step - loss: 0.0388 - val_loss: 0.0415\n",
      "Epoch 16/50\n",
      "22/22 [==============================] - 0s 10ms/step - loss: 0.0387 - val_loss: 0.0368\n",
      "Epoch 17/50\n",
      "22/22 [==============================] - 0s 9ms/step - loss: 0.0408 - val_loss: 0.0356\n",
      "Epoch 18/50\n",
      "22/22 [==============================] - 0s 9ms/step - loss: 0.0325 - val_loss: 0.0378\n",
      "Epoch 19/50\n",
      "22/22 [==============================] - 0s 8ms/step - loss: 0.0298 - val_loss: 0.0423\n",
      "Epoch 20/50\n",
      "22/22 [==============================] - 0s 8ms/step - loss: 0.0341 - val_loss: 0.0434\n",
      "Epoch 21/50\n",
      "22/22 [==============================] - 0s 10ms/step - loss: 0.0345 - val_loss: 0.0315\n",
      "Epoch 22/50\n",
      "22/22 [==============================] - 0s 11ms/step - loss: 0.0280 - val_loss: 0.0291\n",
      "Epoch 23/50\n",
      "22/22 [==============================] - 0s 10ms/step - loss: 0.0226 - val_loss: 0.0325\n",
      "Epoch 24/50\n",
      "22/22 [==============================] - 0s 9ms/step - loss: 0.0222 - val_loss: 0.0504\n",
      "Epoch 25/50\n",
      "22/22 [==============================] - 0s 9ms/step - loss: 0.0266 - val_loss: 0.0295\n",
      "Epoch 26/50\n",
      "22/22 [==============================] - 0s 9ms/step - loss: 0.0234 - val_loss: 0.0260\n",
      "Epoch 27/50\n",
      "22/22 [==============================] - 0s 10ms/step - loss: 0.0234 - val_loss: 0.0316\n",
      "Epoch 28/50\n",
      "22/22 [==============================] - 0s 9ms/step - loss: 0.0359 - val_loss: 0.0369\n",
      "Epoch 29/50\n",
      "22/22 [==============================] - 0s 9ms/step - loss: 0.0369 - val_loss: 0.0471\n",
      "Epoch 30/50\n",
      "22/22 [==============================] - 0s 11ms/step - loss: 0.0363 - val_loss: 0.0280\n",
      "Epoch 31/50\n",
      "22/22 [==============================] - 0s 13ms/step - loss: 0.0210 - val_loss: 0.0291\n",
      "Epoch 32/50\n",
      "22/22 [==============================] - 0s 10ms/step - loss: 0.0199 - val_loss: 0.0342\n",
      "Epoch 33/50\n",
      "22/22 [==============================] - 0s 10ms/step - loss: 0.0301 - val_loss: 0.0359\n",
      "Epoch 34/50\n",
      "22/22 [==============================] - 0s 11ms/step - loss: 0.0234 - val_loss: 0.0278\n",
      "Epoch 35/50\n",
      "22/22 [==============================] - 0s 12ms/step - loss: 0.0175 - val_loss: 0.0235\n",
      "Epoch 36/50\n",
      "22/22 [==============================] - 0s 10ms/step - loss: 0.0164 - val_loss: 0.0369\n",
      "Epoch 37/50\n",
      "22/22 [==============================] - 0s 11ms/step - loss: 0.0200 - val_loss: 0.0258\n",
      "Epoch 38/50\n",
      "22/22 [==============================] - 0s 11ms/step - loss: 0.0176 - val_loss: 0.0244\n",
      "Epoch 39/50\n",
      "22/22 [==============================] - 0s 10ms/step - loss: 0.0200 - val_loss: 0.0369\n",
      "Epoch 40/50\n",
      "22/22 [==============================] - 0s 10ms/step - loss: 0.0207 - val_loss: 0.0211\n",
      "Epoch 41/50\n",
      "22/22 [==============================] - 0s 9ms/step - loss: 0.0166 - val_loss: 0.0218\n",
      "Epoch 42/50\n",
      "22/22 [==============================] - 0s 9ms/step - loss: 0.0153 - val_loss: 0.0337\n",
      "Epoch 43/50\n",
      "22/22 [==============================] - 0s 10ms/step - loss: 0.0214 - val_loss: 0.0275\n",
      "Epoch 44/50\n",
      "22/22 [==============================] - 0s 10ms/step - loss: 0.0151 - val_loss: 0.0210\n",
      "Epoch 45/50\n",
      "22/22 [==============================] - 0s 10ms/step - loss: 0.0132 - val_loss: 0.0258\n",
      "Epoch 46/50\n",
      "22/22 [==============================] - 0s 9ms/step - loss: 0.0173 - val_loss: 0.0207\n",
      "Epoch 47/50\n",
      "22/22 [==============================] - 0s 10ms/step - loss: 0.0178 - val_loss: 0.0271\n",
      "Epoch 48/50\n",
      "22/22 [==============================] - 0s 10ms/step - loss: 0.0153 - val_loss: 0.0249\n",
      "Epoch 49/50\n",
      "22/22 [==============================] - 0s 11ms/step - loss: 0.0151 - val_loss: 0.0234\n",
      "Epoch 50/50\n",
      "22/22 [==============================] - 0s 11ms/step - loss: 0.0130 - val_loss: 0.0212\n"
     ]
    }
   ],
   "source": [
    "batch_size = 30 \n",
    "epochs = 50  # Reduced epochs for quick demonstration \n",
    "history = model.fit( \n",
    "X_train, y_train, \n",
    "batch_size=batch_size, \n",
    "epochs=epochs, \n",
    "validation_split=0.2 \n",
    ")"
   ]
  },
  {
   "cell_type": "code",
   "execution_count": 9,
   "id": "bc3bed6b-3e79-43b3-aadc-fc5272395eab",
   "metadata": {},
   "outputs": [
    {
     "name": "stdout",
     "output_type": "stream",
     "text": [
      "7/7 [==============================] - 0s 5ms/step - loss: 0.0241\n",
      "Test Loss: 0.0241\n"
     ]
    }
   ],
   "source": [
    "test_loss = model.evaluate(X_test, y_test) \n",
    "print(f'Test Loss: {test_loss:.4f}')"
   ]
  },
  {
   "cell_type": "code",
   "execution_count": 10,
   "id": "cb2fb749-773e-4bbf-bce9-719bbd07c29f",
   "metadata": {},
   "outputs": [
    {
     "name": "stdout",
     "output_type": "stream",
     "text": [
      "7/7 [==============================] - 0s 5ms/step\n",
      "Test Accuracy (R^2): 0.9974\n"
     ]
    }
   ],
   "source": [
    "y_pred = model.predict(X_test) \n",
    "r2 = r2_score(y_test, y_pred) \n",
    "print(f'Test Accuracy (R^2): {r2:.4f}') "
   ]
  },
  {
   "cell_type": "code",
   "execution_count": 11,
   "id": "d82cff39-c50a-4c18-b6e9-ce4e22489097",
   "metadata": {},
   "outputs": [
    {
     "name": "stdout",
     "output_type": "stream",
     "text": [
      "1/1 [==============================] - 0s 52ms/step\n",
      "Predictions for new data:\n",
      "[[ 1.7613161 ]\n",
      " [ 0.40740597]\n",
      " [-2.23266   ]\n",
      " [-0.6163975 ]\n",
      " [-3.7167645 ]]\n"
     ]
    }
   ],
   "source": [
    "new_data = np.random.randn(5, seq_length, 1) \n",
    "predictions = model.predict(new_data) \n",
    "print(\"Predictions for new data:\") \n",
    "print(predictions)"
   ]
  },
  {
   "cell_type": "code",
   "execution_count": null,
   "id": "846e5f63-0038-46a9-9f6c-f6416495aee2",
   "metadata": {},
   "outputs": [],
   "source": []
  }
 ],
 "metadata": {
  "kernelspec": {
   "display_name": "Python (tf210)",
   "language": "python",
   "name": "tf210"
  },
  "language_info": {
   "codemirror_mode": {
    "name": "ipython",
    "version": 3
   },
   "file_extension": ".py",
   "mimetype": "text/x-python",
   "name": "python",
   "nbconvert_exporter": "python",
   "pygments_lexer": "ipython3",
   "version": "3.9.23"
  }
 },
 "nbformat": 4,
 "nbformat_minor": 5
}
