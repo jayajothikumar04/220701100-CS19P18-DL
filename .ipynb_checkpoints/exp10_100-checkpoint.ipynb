{
 "cells": [
  {
   "cell_type": "code",
   "execution_count": 1,
   "id": "0b4d85c1",
   "metadata": {},
   "outputs": [
    {
     "name": "stdout",
     "output_type": "stream",
     "text": [
      "                                               title  \\\n",
      "0  Kandi Burruss Explodes Over Rape Accusation on...   \n",
      "1  People's Choice Awards 2018: The best red carp...   \n",
      "2  Sophia Bush Sends Sweet Birthday Message to 'O...   \n",
      "3  Colombian singer Maluma sparks rumours of inap...   \n",
      "4  Gossip Girl 10 Years Later: How Upper East Sid...   \n",
      "\n",
      "                                            news_url        source_domain  \\\n",
      "0  http://toofab.com/2017/05/08/real-housewives-a...           toofab.com   \n",
      "1  https://www.today.com/style/see-people-s-choic...        www.today.com   \n",
      "2  https://www.etonline.com/news/220806_sophia_bu...     www.etonline.com   \n",
      "3  https://www.dailymail.co.uk/news/article-33655...  www.dailymail.co.uk   \n",
      "4  https://www.zerchoo.com/entertainment/gossip-g...      www.zerchoo.com   \n",
      "\n",
      "   tweet_num  real  \n",
      "0         42     1  \n",
      "1          0     1  \n",
      "2         63     1  \n",
      "3         20     1  \n",
      "4         38     1  \n"
     ]
    }
   ],
   "source": [
    "import pandas as pd\n",
    "from sklearn.model_selection import train_test_split\n",
    "from tensorflow.keras.preprocessing.text import Tokenizer\n",
    "from tensorflow.keras.preprocessing.sequence import pad_sequences\n",
    "from tensorflow.keras.models import Sequential\n",
    "from tensorflow.keras.layers import Embedding, GlobalAveragePooling1D, Dense\n",
    "\n",
    "# Load dataset\n",
    "df = pd.read_csv('train.csv')\n",
    "\n",
    "# Inspect first few rows\n",
    "print(df.head())"
   ]
  },
  {
   "cell_type": "code",
   "execution_count": 3,
   "id": "c2d4db9a-6de5-4519-ae42-b4b494f6565b",
   "metadata": {},
   "outputs": [
    {
     "name": "stdout",
     "output_type": "stream",
     "text": [
      "Index(['title', 'news_url', 'source_domain', 'tweet_num', 'real'], dtype='object')\n"
     ]
    }
   ],
   "source": [
    "print(df.columns)\n"
   ]
  },
  {
   "cell_type": "code",
   "execution_count": 4,
   "id": "c585bc17",
   "metadata": {},
   "outputs": [],
   "source": [
    "texts = df['title'].astype(str).values\n",
    "labels = df['real'].astype(int).values\n",
    "\n",
    "# Split into train and test\n",
    "X_train, X_test, y_train, y_test = train_test_split(texts, labels, test_size=0.2, random_state=42)\n",
    "\n",
    "# Initialize tokenizer\n",
    "vocab_size = 10000\n",
    "max_length = 200\n",
    "\n",
    "tokenizer = Tokenizer(num_words=vocab_size, oov_token='<OOV>')\n",
    "tokenizer.fit_on_texts(X_train)\n",
    "\n",
    "# Convert texts to sequences\n",
    "X_train_seq = tokenizer.texts_to_sequences(X_train)\n",
    "X_test_seq = tokenizer.texts_to_sequences(X_test)\n",
    "\n",
    "# Pad sequences\n",
    "X_train_pad = pad_sequences(X_train_seq, maxlen=max_length, padding='post')\n",
    "X_test_pad = pad_sequences(X_test_seq, maxlen=max_length, padding='post')"
   ]
  },
  {
   "cell_type": "code",
   "execution_count": 5,
   "id": "23a472f2",
   "metadata": {},
   "outputs": [
    {
     "name": "stdout",
     "output_type": "stream",
     "text": [
      "Model: \"sequential\"\n",
      "_________________________________________________________________\n",
      " Layer (type)                Output Shape              Param #   \n",
      "=================================================================\n",
      " embedding (Embedding)       (None, 200, 16)           160000    \n",
      "                                                                 \n",
      " global_average_pooling1d (G  (None, 16)               0         \n",
      " lobalAveragePooling1D)                                          \n",
      "                                                                 \n",
      " dense (Dense)               (None, 16)                272       \n",
      "                                                                 \n",
      " dense_1 (Dense)             (None, 1)                 17        \n",
      "                                                                 \n",
      "=================================================================\n",
      "Total params: 160,289\n",
      "Trainable params: 160,289\n",
      "Non-trainable params: 0\n",
      "_________________________________________________________________\n"
     ]
    }
   ],
   "source": [
    "model = Sequential([\n",
    "    Embedding(vocab_size, 16, input_length=max_length),\n",
    "    GlobalAveragePooling1D(),\n",
    "    Dense(16, activation='relu'),\n",
    "    Dense(1, activation='sigmoid')\n",
    "])\n",
    "\n",
    "model.compile(loss='binary_crossentropy', optimizer='adam', metrics=['accuracy'])\n",
    "\n",
    "model.summary()"
   ]
  },
  {
   "cell_type": "code",
   "execution_count": 6,
   "id": "dee0a8bb",
   "metadata": {},
   "outputs": [
    {
     "name": "stdout",
     "output_type": "stream",
     "text": [
      "Epoch 1/5\n",
      "464/464 [==============================] - 5s 7ms/step - loss: 0.5665 - accuracy: 0.7538 - val_loss: 0.5711 - val_accuracy: 0.7387\n",
      "Epoch 2/5\n",
      "464/464 [==============================] - 3s 6ms/step - loss: 0.5495 - accuracy: 0.7538 - val_loss: 0.5612 - val_accuracy: 0.7387\n",
      "Epoch 3/5\n",
      "464/464 [==============================] - 3s 6ms/step - loss: 0.5323 - accuracy: 0.7538 - val_loss: 0.5282 - val_accuracy: 0.7387\n",
      "Epoch 4/5\n",
      "464/464 [==============================] - 3s 6ms/step - loss: 0.4668 - accuracy: 0.7732 - val_loss: 0.4461 - val_accuracy: 0.7904\n",
      "Epoch 5/5\n",
      "464/464 [==============================] - 3s 6ms/step - loss: 0.3809 - accuracy: 0.8345 - val_loss: 0.4041 - val_accuracy: 0.8190\n"
     ]
    }
   ],
   "source": [
    "history = model.fit(X_train_pad, y_train, epochs=5, batch_size=32, validation_split=0.2)"
   ]
  },
  {
   "cell_type": "code",
   "execution_count": 7,
   "id": "457311c3",
   "metadata": {},
   "outputs": [
    {
     "name": "stdout",
     "output_type": "stream",
     "text": [
      "145/145 [==============================] - 0s 3ms/step - loss: 0.4013 - accuracy: 0.8207\n",
      "Accuracy on test data: 0.82\n"
     ]
    }
   ],
   "source": [
    "loss, accuracy = model.evaluate(X_test_pad, y_test)\n",
    "print(f'Accuracy on test data: {accuracy:.2f}')"
   ]
  },
  {
   "cell_type": "code",
   "execution_count": 8,
   "id": "854d4452",
   "metadata": {},
   "outputs": [
    {
     "name": "stdout",
     "output_type": "stream",
     "text": [
      "1/1 [==============================] - 0s 288ms/step\n",
      "Fake news probability: 0.6114043\n"
     ]
    }
   ],
   "source": [
    "sample_text = [\"Breaking news: new discovery shocks scientists!\"]\n",
    "sample_seq = tokenizer.texts_to_sequences(sample_text)\n",
    "sample_pad = pad_sequences(sample_seq, maxlen=max_length, padding='post')\n",
    "prediction = model.predict(sample_pad)\n",
    "print('Fake news probability:', prediction[0][0])"
   ]
  },
  {
   "cell_type": "code",
   "execution_count": null,
   "id": "22d079d5-66c3-4908-b3d9-aed14d864f0e",
   "metadata": {},
   "outputs": [],
   "source": []
  }
 ],
 "metadata": {
  "kernelspec": {
   "display_name": "Python (tf210)",
   "language": "python",
   "name": "tf210"
  },
  "language_info": {
   "codemirror_mode": {
    "name": "ipython",
    "version": 3
   },
   "file_extension": ".py",
   "mimetype": "text/x-python",
   "name": "python",
   "nbconvert_exporter": "python",
   "pygments_lexer": "ipython3",
   "version": "3.9.23"
  }
 },
 "nbformat": 4,
 "nbformat_minor": 5
}
