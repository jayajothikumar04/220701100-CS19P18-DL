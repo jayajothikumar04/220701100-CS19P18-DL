{
 "cells": [
  {
   "cell_type": "code",
   "execution_count": 1,
   "id": "0f4833c8",
   "metadata": {},
   "outputs": [],
   "source": [
    "import numpy as np\n",
    "import matplotlib.pyplot as plt\n",
    "from keras.layers import Input, Dense\n",
    "from keras.models import Model\n",
    "from keras.datasets import mnist"
   ]
  },
  {
   "cell_type": "code",
   "execution_count": 2,
   "id": "2ee03cf1",
   "metadata": {},
   "outputs": [],
   "source": [
    "(x_train, _), (x_test, _) = mnist.load_data()\n",
    "x_train = x_train.astype('float32') / 255.\n",
    "x_test = x_test.astype('float32') / 255.\n",
    "x_train = x_train.reshape((len(x_train), np.prod(x_train.shape[1:])))\n",
    "x_test = x_test.reshape((len(x_test), np.prod(x_test.shape[1:])))"
   ]
  },
  {
   "cell_type": "code",
   "execution_count": 3,
   "id": "3407e30a",
   "metadata": {},
   "outputs": [],
   "source": [
    "input_img = Input(shape=(784,))\n",
    "encoded = Dense(32, activation='relu')(input_img)\n",
    "decoded = Dense(784, activation='sigmoid')(encoded)\n",
    "autoencoder = Model(input_img, decoded)"
   ]
  },
  {
   "cell_type": "code",
   "execution_count": 4,
   "id": "ea022bcd",
   "metadata": {},
   "outputs": [
    {
     "name": "stdout",
     "output_type": "stream",
     "text": [
      "Epoch 1/50\n",
      "235/235 [==============================] - 4s 12ms/step - loss: 0.2787 - val_loss: 0.1896\n",
      "Epoch 2/50\n",
      "235/235 [==============================] - 2s 10ms/step - loss: 0.1711 - val_loss: 0.1544\n",
      "Epoch 3/50\n",
      "235/235 [==============================] - 2s 10ms/step - loss: 0.1451 - val_loss: 0.1349\n",
      "Epoch 4/50\n",
      "235/235 [==============================] - 2s 9ms/step - loss: 0.1292 - val_loss: 0.1221\n",
      "Epoch 5/50\n",
      "235/235 [==============================] - 2s 10ms/step - loss: 0.1185 - val_loss: 0.1130\n",
      "Epoch 6/50\n",
      "235/235 [==============================] - 2s 10ms/step - loss: 0.1110 - val_loss: 0.1068\n",
      "Epoch 7/50\n",
      "235/235 [==============================] - 2s 10ms/step - loss: 0.1059 - val_loss: 0.1031\n",
      "Epoch 8/50\n",
      "235/235 [==============================] - 2s 10ms/step - loss: 0.1023 - val_loss: 0.0997\n",
      "Epoch 9/50\n",
      "235/235 [==============================] - 2s 10ms/step - loss: 0.0996 - val_loss: 0.0972\n",
      "Epoch 10/50\n",
      "235/235 [==============================] - 2s 10ms/step - loss: 0.0977 - val_loss: 0.0957\n",
      "Epoch 11/50\n",
      "235/235 [==============================] - 2s 10ms/step - loss: 0.0964 - val_loss: 0.0948\n",
      "Epoch 12/50\n",
      "235/235 [==============================] - 2s 10ms/step - loss: 0.0955 - val_loss: 0.0940\n",
      "Epoch 13/50\n",
      "235/235 [==============================] - 2s 9ms/step - loss: 0.0949 - val_loss: 0.0935\n",
      "Epoch 14/50\n",
      "235/235 [==============================] - 2s 10ms/step - loss: 0.0945 - val_loss: 0.0932\n",
      "Epoch 15/50\n",
      "235/235 [==============================] - 2s 10ms/step - loss: 0.0942 - val_loss: 0.0929\n",
      "Epoch 16/50\n",
      "235/235 [==============================] - 2s 10ms/step - loss: 0.0940 - val_loss: 0.0928\n",
      "Epoch 17/50\n",
      "235/235 [==============================] - 2s 10ms/step - loss: 0.0938 - val_loss: 0.0926\n",
      "Epoch 18/50\n",
      "235/235 [==============================] - 2s 10ms/step - loss: 0.0937 - val_loss: 0.0923\n",
      "Epoch 19/50\n",
      "235/235 [==============================] - 2s 10ms/step - loss: 0.0935 - val_loss: 0.0923\n",
      "Epoch 20/50\n",
      "235/235 [==============================] - 2s 10ms/step - loss: 0.0934 - val_loss: 0.0922\n",
      "Epoch 21/50\n",
      "235/235 [==============================] - 2s 10ms/step - loss: 0.0933 - val_loss: 0.0921\n",
      "Epoch 22/50\n",
      "235/235 [==============================] - 2s 10ms/step - loss: 0.0933 - val_loss: 0.0921\n",
      "Epoch 23/50\n",
      "235/235 [==============================] - 2s 10ms/step - loss: 0.0932 - val_loss: 0.0920\n",
      "Epoch 24/50\n",
      "235/235 [==============================] - 2s 10ms/step - loss: 0.0931 - val_loss: 0.0920\n",
      "Epoch 25/50\n",
      "235/235 [==============================] - 2s 10ms/step - loss: 0.0931 - val_loss: 0.0919\n",
      "Epoch 26/50\n",
      "235/235 [==============================] - 2s 10ms/step - loss: 0.0930 - val_loss: 0.0918\n",
      "Epoch 27/50\n",
      "235/235 [==============================] - 2s 10ms/step - loss: 0.0930 - val_loss: 0.0919\n",
      "Epoch 28/50\n",
      "235/235 [==============================] - 2s 10ms/step - loss: 0.0930 - val_loss: 0.0918\n",
      "Epoch 29/50\n",
      "235/235 [==============================] - 2s 10ms/step - loss: 0.0929 - val_loss: 0.0917\n",
      "Epoch 30/50\n",
      "235/235 [==============================] - 2s 10ms/step - loss: 0.0929 - val_loss: 0.0918\n",
      "Epoch 31/50\n",
      "235/235 [==============================] - 2s 10ms/step - loss: 0.0928 - val_loss: 0.0917\n",
      "Epoch 32/50\n",
      "235/235 [==============================] - 2s 10ms/step - loss: 0.0928 - val_loss: 0.0917\n",
      "Epoch 33/50\n",
      "235/235 [==============================] - 2s 10ms/step - loss: 0.0928 - val_loss: 0.0917\n",
      "Epoch 34/50\n",
      "235/235 [==============================] - 2s 10ms/step - loss: 0.0928 - val_loss: 0.0916\n",
      "Epoch 35/50\n",
      "235/235 [==============================] - 2s 10ms/step - loss: 0.0928 - val_loss: 0.0918\n",
      "Epoch 36/50\n",
      "235/235 [==============================] - 2s 10ms/step - loss: 0.0928 - val_loss: 0.0916\n",
      "Epoch 37/50\n",
      "235/235 [==============================] - 2s 10ms/step - loss: 0.0927 - val_loss: 0.0916\n",
      "Epoch 38/50\n",
      "235/235 [==============================] - 2s 10ms/step - loss: 0.0927 - val_loss: 0.0916\n",
      "Epoch 39/50\n",
      "235/235 [==============================] - 2s 9ms/step - loss: 0.0927 - val_loss: 0.0916\n",
      "Epoch 40/50\n",
      "235/235 [==============================] - 2s 10ms/step - loss: 0.0927 - val_loss: 0.0916\n",
      "Epoch 41/50\n",
      "235/235 [==============================] - 2s 10ms/step - loss: 0.0927 - val_loss: 0.0917\n",
      "Epoch 42/50\n",
      "235/235 [==============================] - 2s 9ms/step - loss: 0.0927 - val_loss: 0.0915\n",
      "Epoch 43/50\n",
      "235/235 [==============================] - 2s 10ms/step - loss: 0.0926 - val_loss: 0.0916\n",
      "Epoch 44/50\n",
      "235/235 [==============================] - 2s 9ms/step - loss: 0.0926 - val_loss: 0.0915\n",
      "Epoch 45/50\n",
      "235/235 [==============================] - 2s 9ms/step - loss: 0.0926 - val_loss: 0.0915\n",
      "Epoch 46/50\n",
      "235/235 [==============================] - 2s 10ms/step - loss: 0.0926 - val_loss: 0.0915\n",
      "Epoch 47/50\n",
      "235/235 [==============================] - 2s 10ms/step - loss: 0.0926 - val_loss: 0.0915\n",
      "Epoch 48/50\n",
      "235/235 [==============================] - 2s 10ms/step - loss: 0.0926 - val_loss: 0.0915\n",
      "Epoch 49/50\n",
      "235/235 [==============================] - 2s 10ms/step - loss: 0.0926 - val_loss: 0.0915\n",
      "Epoch 50/50\n",
      "235/235 [==============================] - 2s 10ms/step - loss: 0.0926 - val_loss: 0.0915\n",
      "313/313 [==============================] - 1s 4ms/step - loss: 0.0915\n",
      "313/313 [==============================] - 1s 3ms/step\n"
     ]
    }
   ],
   "source": [
    "autoencoder.compile(optimizer='adam', loss='binary_crossentropy')\n",
    "autoencoder.fit(x_train, x_train, epochs=50, batch_size=256, shuffle=True, validation_data=(x_test, x_test))\n",
    "test_loss = autoencoder.evaluate(x_test, x_test)\n",
    "decoded_imgs = autoencoder.predict(x_test)"
   ]
  },
  {
   "cell_type": "code",
   "execution_count": 5,
   "id": "13d598a2",
   "metadata": {},
   "outputs": [],
   "source": [
    "threshold = 0.5\n",
    "correct_predictions = np.sum(\n",
    "np.where(x_test >= threshold, 1, 0) ==\n",
    "np.where(decoded_imgs >= threshold, 1, 0)\n",
    ")"
   ]
  },
  {
   "cell_type": "code",
   "execution_count": 6,
   "id": "f28502f6",
   "metadata": {},
   "outputs": [
    {
     "name": "stdout",
     "output_type": "stream",
     "text": [
      "Test Loss: 0.09151389449834824\n",
      "Test Accuracy: 0.9713761479591837\n"
     ]
    }
   ],
   "source": [
    "total_pixels = x_test.shape[0] * x_test.shape[1]\n",
    "test_accuracy = correct_predictions / total_pixels\n",
    "print(\"Test Loss:\", test_loss)\n",
    "print(\"Test Accuracy:\", test_accuracy)"
   ]
  },
  {
   "cell_type": "code",
   "execution_count": 7,
   "id": "e6a98a6f",
   "metadata": {},
   "outputs": [
    {
     "data": {
      "image/png": "[encoded data removed]",
      "text/plain": [
       "<Figure size 2000x400 with 20 Axes>"
      ]
     },
     "metadata": {},
     "output_type": "display_data"
    }
   ],
   "source": [
    "n = 10\n",
    "plt.figure(figsize=(20, 4))\n",
    "for i in range(n):\n",
    "    # Display original\n",
    "    ax = plt.subplot(2, n, i + 1)\n",
    "    plt.imshow(x_test[i].reshape(28, 28))\n",
    "    plt.gray()\n",
    "    ax.get_xaxis().set_visible(False)\n",
    "    ax.get_yaxis().set_visible(False)\n",
    "\n",
    "    # Display reconstruction with threshold\n",
    "    ax = plt.subplot(2, n, i + 1 + n)\n",
    "    reconstruction = decoded_imgs[i].reshape(28, 28)\n",
    "    plt.imshow(np.where(reconstruction >= threshold, 1.0, 0.0))\n",
    "    plt.gray()\n",
    "    ax.get_xaxis().set_visible(False)\n",
    "    ax.get_yaxis().set_visible(False)\n",
    "plt.show()"
   ]
  },
  {
   "cell_type": "code",
   "execution_count": null,
   "id": "13b2631c",
   "metadata": {},
   "outputs": [],
   "source": []
  }
 ],
 "metadata": {
  "kernelspec": {
   "display_name": "Python (tf210)",
   "language": "python",
   "name": "tf210"
  },
  "language_info": {
   "codemirror_mode": {
    "name": "ipython",
    "version": 3
   },
   "file_extension": ".py",
   "mimetype": "text/x-python",
   "name": "python",
   "nbconvert_exporter": "python",
   "pygments_lexer": "ipython3",
   "version": "3.9.23"
  }
 },
 "nbformat": 4,
 "nbformat_minor": 5
}
